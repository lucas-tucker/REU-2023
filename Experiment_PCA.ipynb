{
 "cells": [
  {
   "cell_type": "code",
   "execution_count": 291,
   "metadata": {},
   "outputs": [],
   "source": [
    "import pandas as pd\n",
    "import numpy as np\n",
    "import math\n",
    "from matplotlib import pyplot as plt\n",
    "from scipy.stats import ortho_group\n",
    "import scipy"
   ]
  },
  {
   "cell_type": "code",
   "execution_count": 292,
   "metadata": {},
   "outputs": [],
   "source": [
    "data = pd.read_csv(\"/Users/lucastucker/REU-2023/archive/mnist_train.csv\")\n",
    "data = np.array(data)\n",
    "np.random.shuffle(data)"
   ]
  },
  {
   "cell_type": "code",
   "execution_count": 293,
   "metadata": {},
   "outputs": [
    {
     "data": {
      "text/plain": [
       "(60000, 785)"
      ]
     },
     "execution_count": 293,
     "metadata": {},
     "output_type": "execute_result"
    }
   ],
   "source": [
    "data.shape"
   ]
  },
  {
   "cell_type": "code",
   "execution_count": 294,
   "metadata": {},
   "outputs": [
    {
     "data": {
      "text/plain": [
       "(784, 2000)"
      ]
     },
     "execution_count": 294,
     "metadata": {},
     "output_type": "execute_result"
    }
   ],
   "source": [
    "m = 2000 # number of MNIST images sampled\n",
    "n = 784 # number of pixels per MNIST image\n",
    "t = 10 # number of neighbors measured\n",
    "sample = data[:m]\n",
    "X = sample[:, 1:].T / 255\n",
    "X.shape"
   ]
  },
  {
   "cell_type": "code",
   "execution_count": 295,
   "metadata": {},
   "outputs": [],
   "source": [
    "def get_random_projection(k, X):\n",
    "    R = np.random.normal(size = (n, k)) \n",
    "    frob_norm = np.linalg.norm(R.dot(R.T).dot(X) - X)\n",
    "    print(f\"for k = {k}, frobenius norm for random projection is {frob_norm}\")\n",
    "    return R.T.dot(X)"
   ]
  },
  {
   "cell_type": "code",
   "execution_count": 296,
   "metadata": {},
   "outputs": [],
   "source": [
    "def get_pca(k, X):\n",
    "    mean_centered_data = X - np.mean(X, axis=1, keepdims=True)\n",
    "    covariance_matrix = np.cov(mean_centered_data) \n",
    "    eigenvalues, eigenvectors = np.linalg.eig(covariance_matrix)\n",
    "    sorted_indices = np.argsort(eigenvalues)[::-1]\n",
    "    sorted_eigenvectors = eigenvectors[:, sorted_indices]\n",
    "    proj = sorted_eigenvectors[:, :k] # top k minimize the frobenius norm\n",
    "    frob_norm = np.linalg.norm(proj.dot(proj.T).dot(X) - X)\n",
    "    print(f\"for k = {k}, frobenius norm for normal pca is {frob_norm}\")\n",
    "    reduced_data = np.dot(proj.T, mean_centered_data)\n",
    "    return reduced_data"
   ]
  },
  {
   "cell_type": "code",
   "execution_count": 297,
   "metadata": {},
   "outputs": [],
   "source": [
    "# This is performed according to the gradient calculated in the paper\n",
    "def gradient_pca(k, X, tolerance, step):\n",
    "\n",
    "    X = X - np.mean(X, axis=1, keepdims=True)\n",
    "    diff = math.inf\n",
    "    proj = ortho_group.rvs(dim=n)[:, :k] # random n x k orthogonal matrix\n",
    "    norm = np.linalg.norm(proj)\n",
    "    proj = proj / norm\n",
    "    frob_norm = math.inf\n",
    "    \n",
    "    num_iterations = 20\n",
    "\n",
    "    while diff > tolerance and num_iterations > 0:\n",
    "        DF = 2 * proj.dot(proj.T).dot(X).dot(X.T).dot(proj) - \\\n",
    "        4 * X.dot(X.T).dot(proj) + 2 * X.dot(X.T).dot(proj).dot(proj.T).dot(proj)\n",
    "\n",
    "        DF = DF / np.linalg.norm(DF) # Keep the gradient matrix normalized\n",
    "\n",
    "        proj_new = (proj - step * DF) # gradient descent step\n",
    "        diff = np.linalg.norm(proj - proj_new)\n",
    "        proj = proj_new\n",
    "        num_iterations -= 1\n",
    "\n",
    "    U, s, Vh = scipy.linalg.svd(proj, full_matrices=False)\n",
    "    output = U.dot(Vh)\n",
    "\n",
    "    frob_norm = np.linalg.norm(output.dot(output.T).dot(X) - X)\n",
    "    print(f\"for k = {k}, frobenius norm for gradient descent pca is {frob_norm}\") # the objective function\n",
    "\n",
    "    return output.T.dot(X)"
   ]
  },
  {
   "cell_type": "code",
   "execution_count": 298,
   "metadata": {},
   "outputs": [],
   "source": [
    "def nearest_t_nbrs(t, X):\n",
    "    t_nearest = np.ones((m, t), dtype=int) * 1\n",
    "    for id, row in enumerate(X.T):\n",
    "        dif = X.T - row # get vector representation-wise differences\n",
    "        norm_indices = np.argsort(np.linalg.norm(dif, axis = 1))\n",
    "        t_nearest[id] = norm_indices[1: t + 1]\n",
    "    return t_nearest # returns m x t matrix representing k_nearest"
   ]
  },
  {
   "cell_type": "code",
   "execution_count": 299,
   "metadata": {},
   "outputs": [],
   "source": [
    "def t_similarity_score(t, X, X_reduced):\n",
    "    pixelwise_t_nearest = nearest_t_nbrs(t, X)\n",
    "    reduced_t_nearest = nearest_t_nbrs(t, X_reduced)\n",
    "    shared_elems_list = []\n",
    "    for row, row_tilde in zip(pixelwise_t_nearest, reduced_t_nearest):\n",
    "        set_1 = set(row)\n",
    "        set_2 = set(row_tilde)\n",
    "        shared_elem_count = len(set_1.intersection(set_2))\n",
    "        shared_elems_list.append(shared_elem_count)\n",
    "    shared_elems = np.array(shared_elems_list) # row-wise intersection counts\n",
    "    avg_shared = (1/m) * np.sum(shared_elems)\n",
    "    return (avg_shared / t)"
   ]
  },
  {
   "cell_type": "code",
   "execution_count": 304,
   "metadata": {},
   "outputs": [],
   "source": [
    "def normal_pca_similarity_score(k_vals):\n",
    "    rtn_arr = np.arange(0.0, k_vals.size)\n",
    "    for index, k in enumerate(k_vals):\n",
    "        X_pca = get_pca(k, X)\n",
    "        rtn_arr[index] = t_similarity_score(t, X, X_pca)\n",
    "    return rtn_arr"
   ]
  },
  {
   "cell_type": "code",
   "execution_count": 301,
   "metadata": {},
   "outputs": [],
   "source": [
    "def random_similarity_score(k_vals):\n",
    "    rtn_arr = np.arange(0.0, k_vals.size)\n",
    "    for index, k in enumerate(k_vals):\n",
    "        X_random = get_random_projection(k, X)\n",
    "        rtn_arr[index] = t_similarity_score(t, X, X_random)\n",
    "    return rtn_arr"
   ]
  },
  {
   "cell_type": "code",
   "execution_count": 302,
   "metadata": {},
   "outputs": [],
   "source": [
    "def gradient_pca_similarity_score(k_vals, tol = 0.001, step = 1):\n",
    "    rtn_arr = np.arange(0.0, k_vals.size)\n",
    "    for index, k in enumerate(k_vals):\n",
    "        X_gradient = gradient_pca(k, X, tol, step)\n",
    "        rtn_arr[index] = t_similarity_score(t, X, X_gradient)\n",
    "    return rtn_arr"
   ]
  },
  {
   "cell_type": "code",
   "execution_count": 305,
   "metadata": {},
   "outputs": [
    {
     "name": "stdout",
     "output_type": "stream",
     "text": [
      "k_vals are [  2   3   6  12  23  43  80 149 276 512]\n",
      "for k = 2, frobenius norm for normal pca is 370.5909467136158\n",
      "for k = 3, frobenius norm for normal pca is 361.4873555924605\n",
      "for k = 6, frobenius norm for normal pca is 292.62614325759193\n",
      "for k = 12, frobenius norm for normal pca is 228.38944975067142\n",
      "for k = 23, frobenius norm for normal pca is 185.50817037605165\n",
      "for k = 43, frobenius norm for normal pca is 144.7291037036546\n",
      "for k = 80, frobenius norm for normal pca is 105.09624041486131\n",
      "for k = 149, frobenius norm for normal pca is 70.26244254208702\n",
      "for k = 276, frobenius norm for normal pca is 37.80409645426594\n",
      "for k = 512, frobenius norm for normal pca is 4.989323712978672\n",
      "\n",
      "for k = 2, frobenius norm for random projection is 12605.34532435351\n",
      "for k = 3, frobenius norm for random projection is 18478.48958882015\n",
      "for k = 6, frobenius norm for random projection is 28143.75897748092\n",
      "for k = 12, frobenius norm for random projection is 43808.97416760218\n",
      "for k = 23, frobenius norm for random projection is 55698.19723275917\n",
      "for k = 43, frobenius norm for random projection is 79127.46684504955\n",
      "for k = 80, frobenius norm for random projection is 108058.62641948192\n",
      "for k = 149, frobenius norm for random projection is 153128.0311856072\n",
      "for k = 276, frobenius norm for random projection is 224634.2520084344\n",
      "for k = 512, frobenius norm for random projection is 338297.7986133204\n",
      "\n",
      "for k = 2, frobenius norm for gradient descent pca is 294.4432891643244\n",
      "for k = 3, frobenius norm for gradient descent pca is 283.9723635136706\n",
      "for k = 6, frobenius norm for gradient descent pca is 254.70036895898934\n",
      "for k = 12, frobenius norm for gradient descent pca is 222.12576757093447\n",
      "for k = 23, frobenius norm for gradient descent pca is 186.2596704791156\n",
      "for k = 43, frobenius norm for gradient descent pca is 156.47854139266508\n",
      "for k = 80, frobenius norm for gradient descent pca is 133.34135004950298\n",
      "for k = 149, frobenius norm for gradient descent pca is 114.98673705150246\n",
      "for k = 276, frobenius norm for gradient descent pca is 94.28672541168696\n",
      "for k = 512, frobenius norm for gradient descent pca is 61.16178022713299\n",
      "\n"
     ]
    }
   ],
   "source": [
    "k_vals = np.logspace(1, 9, num = 10, base = 2).astype(int)\n",
    "print(f\"k_vals are {k_vals}\")\n",
    "\n",
    "a = normal_pca_similarity_score(k_vals)\n",
    "print(\"\")\n",
    "\n",
    "b = random_similarity_score(k_vals)\n",
    "print(\"\")\n",
    "\n",
    "c = gradient_pca_similarity_score(k_vals)\n",
    "print(\"\")"
   ]
  },
  {
   "cell_type": "code",
   "execution_count": 309,
   "metadata": {},
   "outputs": [
    {
     "data": {
      "image/png": "[encoded data removed]",
      "text/plain": [
       "<Figure size 640x480 with 1 Axes>"
      ]
     },
     "metadata": {},
     "output_type": "display_data"
    },
    {
     "name": "stdout",
     "output_type": "stream",
     "text": [
      "similarity scores for normal pca: [0.0825  0.14675 0.36865 0.55215 0.6997  0.8116  0.8911  0.9478  0.98125\n",
      " 0.9991 ]\n",
      "similarity scores for random projection: [0.0246  0.055   0.1097  0.23895 0.3765  0.5263  0.63805 0.72025 0.7943\n",
      " 0.847  ]\n",
      "similarity scores for gradient-based pca: [0.08315 0.1451  0.3672  0.5395  0.69245 0.7848  0.84355 0.88335 0.91955\n",
      " 0.9631 ]\n"
     ]
    }
   ],
   "source": [
    "plt.plot(k_vals, a, 'r') # plotting t, a separately \n",
    "plt.plot(k_vals, b, 'b') # plotting t, b separately \n",
    "plt.plot(k_vals, c, 'g') # plotting t, c separately \n",
    "plt.show()\n",
    "print(f\"similarity scores for normal pca: {a}\")\n",
    "print(f\"similarity scores for random projection: {b}\")\n",
    "print(f\"similarity scores for gradient-based pca: {c}\")"
   ]
  }
 ],
 "metadata": {
  "kernelspec": {
   "display_name": "Python 3",
   "language": "python",
   "name": "python3"
  },
  "language_info": {
   "codemirror_mode": {
    "name": "ipython",
    "version": 3
   },
   "file_extension": ".py",
   "mimetype": "text/x-python",
   "name": "python",
   "nbconvert_exporter": "python",
   "pygments_lexer": "ipython3",
   "version": "3.10.7"
  },
  "orig_nbformat": 4
 },
 "nbformat": 4,
 "nbformat_minor": 2
}
