{
 "cells": [
  {
   "cell_type": "code",
   "execution_count": 50,
   "metadata": {},
   "outputs": [],
   "source": [
    "import pandas as pd\n",
    "import numpy as np\n",
    "import math\n",
    "from matplotlib import pyplot as plt\n",
    "from scipy.stats import ortho_group\n",
    "import scipy"
   ]
  },
  {
   "cell_type": "code",
   "execution_count": 51,
   "metadata": {},
   "outputs": [],
   "source": [
    "data = pd.read_csv(\"/Users/lucastucker/REU-2023/archive/mnist_train.csv\")\n",
    "data = np.array(data)\n",
    "np.random.shuffle(data)"
   ]
  },
  {
   "cell_type": "code",
   "execution_count": 52,
   "metadata": {},
   "outputs": [
    {
     "data": {
      "text/plain": [
       "(60000, 785)"
      ]
     },
     "execution_count": 52,
     "metadata": {},
     "output_type": "execute_result"
    }
   ],
   "source": [
    "data.shape"
   ]
  },
  {
   "cell_type": "code",
   "execution_count": 53,
   "metadata": {},
   "outputs": [
    {
     "data": {
      "text/plain": [
       "(784, 2000)"
      ]
     },
     "execution_count": 53,
     "metadata": {},
     "output_type": "execute_result"
    }
   ],
   "source": [
    "m = 2000 # number of MNIST images sampled\n",
    "n = 784 # number of pixels per MNIST image\n",
    "t = 100 # number of neighbors measured\n",
    "sample = data[:m]\n",
    "X = sample[:, 1:].T / 255\n",
    "X.shape"
   ]
  },
  {
   "cell_type": "code",
   "execution_count": 54,
   "metadata": {},
   "outputs": [],
   "source": [
    "def get_random_projection(k, X):\n",
    "    R = np.random.normal(size = (n, k)) \n",
    "    frob_norm = np.linalg.norm(R.dot(R.T).dot(X) - X)\n",
    "    print(f\"for k = {k}, frobenius norm for random projection is {frob_norm}\")\n",
    "    return R.T.dot(X)"
   ]
  },
  {
   "cell_type": "code",
   "execution_count": 55,
   "metadata": {},
   "outputs": [],
   "source": [
    "def get_pca(k, X):\n",
    "    mean_centered_data = X - np.mean(X, axis=1, keepdims=True)\n",
    "    covariance_matrix = np.cov(mean_centered_data) \n",
    "    eigenvalues, eigenvectors = np.linalg.eig(covariance_matrix)\n",
    "    sorted_indices = np.argsort(eigenvalues)[::-1]\n",
    "    sorted_eigenvectors = eigenvectors[:, sorted_indices]\n",
    "    proj = sorted_eigenvectors[:, :k] # top k minimize the frobenius norm\n",
    "    frob_norm = np.linalg.norm(proj.dot(proj.T).dot(X) - X)\n",
    "    print(f\"for k = {k}, frobenius norm for normal pca is {frob_norm}\")\n",
    "    reduced_data = np.dot(proj.T, mean_centered_data)\n",
    "    # print(f\"The PCA U is given by {proj}\")\n",
    "    return reduced_data"
   ]
  },
  {
   "cell_type": "code",
   "execution_count": 56,
   "metadata": {},
   "outputs": [],
   "source": [
    "# This is performed according to the gradient calculated in the paper\n",
    "# This is averaged gradient descent, O(GR/sqrt(T)) as proved in Lem 6.22\n",
    "def gradient_pca(k, X, num_iterations, step):\n",
    "\n",
    "    X = X - np.mean(X, axis=1, keepdims=True)\n",
    "    num_iter = num_iterations\n",
    "    proj = ortho_group.rvs(dim=n)[:, :k] # random n x k orthogonal matrix\n",
    "    norm = np.linalg.norm(proj)\n",
    "    proj = proj / norm\n",
    "    frob_norm = math.inf\n",
    "    summed_vecs = np.zeros((n, k))\n",
    "    \n",
    "    while num_iterations > 0:\n",
    "        DF = 2 * proj.dot(proj.T).dot(X).dot(X.T).dot(proj) - \\\n",
    "        4 * X.dot(X.T).dot(proj) + 2 * X.dot(X.T).dot(proj).dot(proj.T).dot(proj)\n",
    "\n",
    "        DF = DF / np.linalg.norm(DF) # Keep the gradient matrix normalized\n",
    "\n",
    "        proj = proj - step * DF # gradient descent step\n",
    "        num_iterations -= 1\n",
    "        summed_vecs += proj\n",
    "\n",
    "    proj = summed_vecs / num_iter    \n",
    "    U, s, Vh = scipy.linalg.svd(proj, full_matrices=False)\n",
    "    output = U.dot(Vh)\n",
    "\n",
    "    frob_norm = np.linalg.norm(output.dot(output.T).dot(X) - X)\n",
    "    print(f\"for k = {k}, frobenius norm for gradient descent pca is {frob_norm}\") # the objective function\n",
    "    # print(f\"The optimized U is given by {output}\")\n",
    "\n",
    "    return output.T.dot(X)"
   ]
  },
  {
   "cell_type": "code",
   "execution_count": 57,
   "metadata": {},
   "outputs": [],
   "source": [
    "def nearest_t_nbrs(t, X):\n",
    "    t_nearest = np.ones((m, t), dtype=int) * 1\n",
    "    for id, row in enumerate(X.T):\n",
    "        dif = X.T - row # get vector representation-wise differences\n",
    "        norm_indices = np.argsort(np.linalg.norm(dif, axis = 1))\n",
    "        t_nearest[id] = norm_indices[1: t + 1]\n",
    "    return t_nearest # returns m x t matrix representing k_nearest"
   ]
  },
  {
   "cell_type": "code",
   "execution_count": 58,
   "metadata": {},
   "outputs": [],
   "source": [
    "def t_similarity_score(t, X, X_reduced):\n",
    "    pixelwise_t_nearest = nearest_t_nbrs(t, X)\n",
    "    reduced_t_nearest = nearest_t_nbrs(t, X_reduced)\n",
    "    shared_elems_list = []\n",
    "    for row, row_tilde in zip(pixelwise_t_nearest, reduced_t_nearest):\n",
    "        set_1 = set(row)\n",
    "        set_2 = set(row_tilde)\n",
    "        shared_elem_count = len(set_1.intersection(set_2))\n",
    "        shared_elems_list.append(shared_elem_count)\n",
    "    shared_elems = np.array(shared_elems_list) # row-wise intersection counts\n",
    "    avg_shared = (1/m) * np.sum(shared_elems)\n",
    "    return (avg_shared / t)"
   ]
  },
  {
   "cell_type": "code",
   "execution_count": 59,
   "metadata": {},
   "outputs": [],
   "source": [
    "def normal_pca_similarity_score(k_vals):\n",
    "    rtn_arr = np.arange(0.0, k_vals.size)\n",
    "    for index, k in enumerate(k_vals):\n",
    "        X_pca = get_pca(k, X)\n",
    "        rtn_arr[index] = t_similarity_score(t, X, X_pca)\n",
    "    return rtn_arr"
   ]
  },
  {
   "cell_type": "code",
   "execution_count": 60,
   "metadata": {},
   "outputs": [],
   "source": [
    "def random_similarity_score(k_vals):\n",
    "    rtn_arr = np.arange(0.0, k_vals.size)\n",
    "    for index, k in enumerate(k_vals):\n",
    "        X_random = get_random_projection(k, X)\n",
    "        rtn_arr[index] = t_similarity_score(t, X, X_random)\n",
    "    return rtn_arr"
   ]
  },
  {
   "cell_type": "code",
   "execution_count": 61,
   "metadata": {},
   "outputs": [],
   "source": [
    "def gradient_pca_similarity_score(k_vals, num_iterations = 10, step = 1):\n",
    "    rtn_arr = np.arange(0.0, k_vals.size)\n",
    "    for index, k in enumerate(k_vals):\n",
    "        X_gradient = gradient_pca(k, X, num_iterations, step)\n",
    "        rtn_arr[index] = t_similarity_score(t, X, X_gradient)\n",
    "    return rtn_arr"
   ]
  },
  {
   "cell_type": "code",
   "execution_count": 62,
   "metadata": {},
   "outputs": [
    {
     "name": "stdout",
     "output_type": "stream",
     "text": [
      "k_vals are [  2   3   6  12  23  43  80 149 276 512]\n",
      "for k = 2, frobenius norm for normal pca is 378.1637634366036\n",
      "for k = 3, frobenius norm for normal pca is 365.91529249121413\n",
      "for k = 6, frobenius norm for normal pca is 284.9854661050001\n",
      "for k = 12, frobenius norm for normal pca is 231.29836174870874\n",
      "for k = 23, frobenius norm for normal pca is 187.5062304234303\n",
      "for k = 43, frobenius norm for normal pca is 146.33539664860643\n",
      "for k = 80, frobenius norm for normal pca is 106.43830261792672\n",
      "for k = 149, frobenius norm for normal pca is 71.58343896227741\n",
      "for k = 276, frobenius norm for normal pca is 39.092629193746525\n",
      "for k = 512, frobenius norm for normal pca is 6.215763825174489\n",
      "\n",
      "for k = 2, frobenius norm for random projection is 14941.60650304227\n",
      "for k = 3, frobenius norm for random projection is 20507.207046015843\n",
      "for k = 6, frobenius norm for random projection is 29118.621162146774\n",
      "for k = 12, frobenius norm for random projection is 39218.70785152077\n",
      "for k = 23, frobenius norm for random projection is 59495.6494113612\n",
      "for k = 43, frobenius norm for random projection is 76124.20391461394\n",
      "for k = 80, frobenius norm for random projection is 103886.64366188814\n",
      "for k = 149, frobenius norm for random projection is 155124.20160464974\n",
      "for k = 276, frobenius norm for random projection is 221995.54192669684\n",
      "for k = 512, frobenius norm for random projection is 345547.59075077897\n",
      "\n",
      "for k = 2, frobenius norm for gradient descent pca is 299.85132013740946\n",
      "for k = 3, frobenius norm for gradient descent pca is 290.28847010425113\n",
      "for k = 6, frobenius norm for gradient descent pca is 265.02109351105975\n",
      "for k = 12, frobenius norm for gradient descent pca is 233.5780293321591\n",
      "for k = 23, frobenius norm for gradient descent pca is 211.18026684892635\n",
      "for k = 43, frobenius norm for gradient descent pca is 188.8725471819654\n",
      "for k = 80, frobenius norm for gradient descent pca is 169.41122267043832\n",
      "for k = 149, frobenius norm for gradient descent pca is 146.7083795492306\n",
      "for k = 276, frobenius norm for gradient descent pca is 119.35111216718316\n",
      "for k = 512, frobenius norm for gradient descent pca is 79.211967194954\n",
      "\n"
     ]
    }
   ],
   "source": [
    "k_vals = np.logspace(1, 9, num = 10, base = 2).astype(int)\n",
    "print(f\"k_vals are {k_vals}\")\n",
    "\n",
    "a = normal_pca_similarity_score(k_vals)\n",
    "print(\"\")\n",
    "\n",
    "b = random_similarity_score(k_vals)\n",
    "print(\"\")\n",
    "\n",
    "c = gradient_pca_similarity_score(k_vals)\n",
    "print(\"\")"
   ]
  },
  {
   "cell_type": "code",
   "execution_count": 63,
   "metadata": {},
   "outputs": [
    {
     "data": {
      "image/png": "[encoded data removed]",
      "text/plain": [
       "<Figure size 640x480 with 1 Axes>"
      ]
     },
     "metadata": {},
     "output_type": "display_data"
    },
    {
     "name": "stdout",
     "output_type": "stream",
     "text": [
      "similarity scores for normal pca: [0.26288  0.356085 0.555405 0.68657  0.785355 0.86703  0.92986  0.96915\n",
      " 0.988475 0.99927 ]\n",
      "similarity scores for random projection: [0.106255 0.148095 0.24315  0.338775 0.4716   0.579375 0.673595 0.756755\n",
      " 0.82002  0.859235]\n",
      "similarity scores for gradient-based pca: [0.25924  0.315945 0.51512  0.66782  0.734995 0.79567  0.837935 0.87994\n",
      " 0.920045 0.96334 ]\n"
     ]
    }
   ],
   "source": [
    "plt.plot(k_vals, a, 'r') # plotting t, a separately \n",
    "plt.plot(k_vals, b, 'b') # plotting t, b separately \n",
    "plt.plot(k_vals, c, 'g') # plotting t, c separately \n",
    "plt.xlabel('Size of reduced dimension', fontsize=20)\n",
    "plt.ylabel('10-similarity score', fontsize=20)\n",
    "plt.show()\n",
    "print(f\"similarity scores for normal pca: {a}\")\n",
    "print(f\"similarity scores for random projection: {b}\")\n",
    "print(f\"similarity scores for gradient-based pca: {c}\")"
   ]
  },
  {
   "cell_type": "markdown",
   "metadata": {},
   "source": [
    "In the above plot, the red (normal pca), green (gradient-based pca), and blue (random projection)\n",
    "plots depict the level to which the respective dimension reductions preserve the euclidean based\n",
    "pixelwise distances between MNIST images. "
   ]
  }
 ],
 "metadata": {
  "kernelspec": {
   "display_name": "Python 3",
   "language": "python",
   "name": "python3"
  },
  "language_info": {
   "codemirror_mode": {
    "name": "ipython",
    "version": 3
   },
   "file_extension": ".py",
   "mimetype": "text/x-python",
   "name": "python",
   "nbconvert_exporter": "python",
   "pygments_lexer": "ipython3",
   "version": "3.10.7"
  },
  "orig_nbformat": 4
 },
 "nbformat": 4,
 "nbformat_minor": 2
}
