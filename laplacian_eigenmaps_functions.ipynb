{
 "cells": [
  {
   "cell_type": "code",
   "execution_count": 1,
   "metadata": {},
   "outputs": [],
   "source": [
    "import pandas as pd\n",
    "import numpy as np\n",
    "import math\n",
    "from matplotlib import pyplot as plt\n",
    "from matplotlib import cm"
   ]
  },
  {
   "cell_type": "code",
   "execution_count": 2,
   "metadata": {},
   "outputs": [],
   "source": [
    "def t_nearest_matr(m, t, X):\n",
    "    t_nearest = np.ones((m, t), dtype=int) * 1\n",
    "    for id, row in enumerate(X.T):\n",
    "        dif = X.T - row # get vector representation-wise differences\n",
    "        norm_indices = np.argsort(np.linalg.norm(dif, axis = 1))\n",
    "        t_nearest[id] = norm_indices[1: t + 1] # exclude the row itself\n",
    "    return t_nearest # returns m x t matrix representing t_nearest"
   ]
  },
  {
   "cell_type": "code",
   "execution_count": 3,
   "metadata": {},
   "outputs": [],
   "source": [
    "def weight_matr(m, N, X, sigma):\n",
    "    X = X.T # transpose the data matrix for ease in W_ij calculation\n",
    "    W = np.zeros((m, m))\n",
    "    for i in range(m):\n",
    "        for j in range(m):\n",
    "            if (i in N[j]) or (j in N[i]):\n",
    "                W[i][j] = np.exp(-np.linalg.norm(X[i] - X[j]) / (sigma ** 2))\n",
    "    return W"
   ]
  },
  {
   "cell_type": "code",
   "execution_count": 4,
   "metadata": {},
   "outputs": [],
   "source": [
    "def diag_matr(m, W):\n",
    "    D = np.zeros((m, m))\n",
    "    for i in range(m):\n",
    "        D[i][i] = np.sum(W[i])\n",
    "    return D"
   ]
  },
  {
   "cell_type": "code",
   "execution_count": 5,
   "metadata": {},
   "outputs": [],
   "source": [
    "def get_le_reduced(k, X, W):\n",
    "    m = len(X[0])\n",
    "    D = diag_matr(m, W)\n",
    "    L = D - W\n",
    "\n",
    "    eigenvalues, eigenvectors = np.linalg.eig(L)\n",
    "    sorted_indices = np.argsort(eigenvalues)[::-1]\n",
    "    sorted_eigenvectors = eigenvectors[:, sorted_indices]\n",
    "    return sorted_eigenvectors[-k:] # smallest k eigenvectors (rows)"
   ]
  },
  {
   "cell_type": "code",
   "execution_count": 6,
   "metadata": {},
   "outputs": [],
   "source": [
    "def avg_distance_matr(m, t, X, N):\n",
    "    avgs = np.zeros((m,))\n",
    "    for l in range(m):\n",
    "        for j in range(t):\n",
    "            avgs[l] += np.sum((X.T[l] - X.T[N[l][j]]) ** 2)\n",
    "    return np.sqrt(avgs) / t"
   ]
  },
  {
   "cell_type": "code",
   "execution_count": 7,
   "metadata": {},
   "outputs": [],
   "source": [
    "def averaged_laplacian_weight(m, t, X, N, avgs):\n",
    "    X = X.T\n",
    "    W = np.zeros((m, m))\n",
    "    for i in range(m):\n",
    "        for j in range(m):\n",
    "            if (i in N[j]) or (j in N[i]):\n",
    "                W[i][j] = np.exp(-(np.linalg.norm(X[i] - X[j]) ** 2) / (t * avgs[i] * avgs[j]))\n",
    "    return W"
   ]
  },
  {
   "cell_type": "code",
   "execution_count": 8,
   "metadata": {},
   "outputs": [],
   "source": [
    "def variable_nbrs_weight(m, t, X, N, avgs):\n",
    "    z = np.mean(np.exp(1 / avgs))\n",
    "    radius_matrix = 1 + t * np.exp(1 / avgs) / z\n",
    "    radius_matrix = radius_matrix.astype(int)\n",
    "    W = np.zeros((m, m))\n",
    "    for i in range(m):\n",
    "        for j in range(m):\n",
    "            if (i in N[j][:radius_matrix[j]]) or (j in N[i][:radius_matrix[i]]):\n",
    "                W[i][j] = np.exp(-(np.linalg.norm(X.T[i] - X.T[j]) ** 2) / (t * avgs[i] * avgs[j]))\n",
    "    return W"
   ]
  }
 ],
 "metadata": {
  "kernelspec": {
   "display_name": "Python 3",
   "language": "python",
   "name": "python3"
  },
  "language_info": {
   "codemirror_mode": {
    "name": "ipython",
    "version": 3
   },
   "file_extension": ".py",
   "mimetype": "text/x-python",
   "name": "python",
   "nbconvert_exporter": "python",
   "pygments_lexer": "ipython3",
   "version": "3.10.7"
  },
  "orig_nbformat": 4
 },
 "nbformat": 4,
 "nbformat_minor": 2
}
