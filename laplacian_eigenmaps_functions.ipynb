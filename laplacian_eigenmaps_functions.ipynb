{
 "cells": [
  {
   "cell_type": "code",
   "execution_count": 13,
   "metadata": {},
   "outputs": [],
   "source": [
    "import numpy as np\n",
    "from sklearn.neighbors import NearestNeighbors\n",
    "from scipy.sparse import csr_matrix, diags, spdiags\n",
    "from scipy.sparse.linalg import eigsh\n",
    "import matplotlib.pyplot as plt"
   ]
  },
  {
   "cell_type": "code",
   "execution_count": null,
   "metadata": {},
   "outputs": [],
   "source": [
    "def laplacian_eigenmaps(X, k=2, t=10, sigma=0.3):\n",
    "    # Efficient nearest neighbors search\n",
    "    nbrs = NearestNeighbors(n_neighbors=t + 1).fit(X)\n",
    "    distances, indices = nbrs.kneighbors(X)\n",
    "\n",
    "    m = X.shape[0]\n",
    "\n",
    "    # Efficient weight matrix calculation\n",
    "    S = np.exp(-distances ** 2 / (2 * sigma ** 2))\n",
    "    W = np.zeros((m, m))\n",
    "    for i in range(m):\n",
    "        W[i, indices[i, 1:]] = S[i, 1:]\n",
    "\n",
    "    # Graph Laplacian\n",
    "    D = diags(np.sum(W, axis=1))\n",
    "    L = D - W\n",
    "\n",
    "    # Eigenvalue and eigenvector computation using sparse matrix\n",
    "    num_eigenvalues = k + 1  # +1 for the trivial eigenvector\n",
    "    eigenvalues, eigenvectors = eigsh(L, k=num_eigenvalues, which='SM')\n",
    "    \n",
    "    # Sort eigenvalues and eigenvectors\n",
    "    sorted_indices = np.argsort(eigenvalues)\n",
    "    eigenvalues = eigenvalues[sorted_indices]\n",
    "    eigenvectors = eigenvectors[:, sorted_indices]\n",
    "\n",
    "    # Project data onto the top k eigenvectors\n",
    "    reduced_data = eigenvectors[:, 1:k+1]\n",
    "\n",
    "    return reduced_data"
   ]
  }
 ],
 "metadata": {
  "kernelspec": {
   "display_name": "Python 3",
   "language": "python",
   "name": "python3"
  },
  "language_info": {
   "codemirror_mode": {
    "name": "ipython",
    "version": 3
   },
   "file_extension": ".py",
   "mimetype": "text/x-python",
   "name": "python",
   "nbconvert_exporter": "python",
   "pygments_lexer": "ipython3",
   "version": "3.10.7"
  },
  "orig_nbformat": 4
 },
 "nbformat": 4,
 "nbformat_minor": 2
}
