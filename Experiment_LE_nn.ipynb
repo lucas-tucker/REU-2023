{
 "cells": [
  {
   "cell_type": "code",
   "execution_count": 3,
   "metadata": {},
   "outputs": [],
   "source": [
    "import torch\n",
    "import torch.nn as nn\n",
    "import numpy as np\n",
    "import pandas as pd\n",
    "import torch.optim as optim\n",
    "from torch.utils.data import DataLoader, TensorDataset\n",
    "import Functions"
   ]
  },
  {
   "cell_type": "code",
   "execution_count": 11,
   "metadata": {},
   "outputs": [],
   "source": [
    "data = pd.read_csv('/Users/lucastucker/REU-2023/archive/mnist_train.csv')\n",
    "data = np.array(data)\n",
    "np.random.shuffle(data)"
   ]
  },
  {
   "cell_type": "code",
   "execution_count": 12,
   "metadata": {},
   "outputs": [],
   "source": [
    "m, n = data.shape\n",
    "test_set = data[0: 1000].T\n",
    "Y_test = test_set[0] # 1 x 1000\n",
    "X_test = test_set[1: n] # 784 x 1000"
   ]
  },
  {
   "cell_type": "code",
   "execution_count": 13,
   "metadata": {},
   "outputs": [],
   "source": [
    "train_set = data[1000: m].T # 785 x 59000\n",
    "Y_train = train_set[0] # 1 x 59000\n",
    "X_train = train_set[1: n] / 255 # 784 x 59000\n",
    "# scale data to [0,1] range (necessary)"
   ]
  },
  {
   "cell_type": "code",
   "execution_count": 4,
   "metadata": {},
   "outputs": [
    {
     "data": {
      "text/plain": [
       "' k = 100 # dimension we would like to reduce to\\nt = 10 # nearest neighbors used in Laplacian Eigenmaps\\nsigma = 1\\nX_train_LE = get_le_reduced(k, t, sigma, X_train) '"
      ]
     },
     "execution_count": 4,
     "metadata": {},
     "output_type": "execute_result"
    }
   ],
   "source": [
    "\"\"\" k = 100 # dimension we would like to reduce to\n",
    "t = 10 # nearest neighbors used in Laplacian Eigenmaps\n",
    "sigma = 1\n",
    "X_train_LE = get_le_reduced(k, t, sigma, X_train) \"\"\""
   ]
  },
  {
   "cell_type": "code",
   "execution_count": null,
   "metadata": {},
   "outputs": [],
   "source": [
    "class Net(nn.Module):\n",
    "    def __init__(self, input_size, hidden_size, output_size):\n",
    "        super(Net, self).__init__()\n",
    "        self.fc1 = nn.Linear(input_size, hidden_size)\n",
    "        self.relu = nn.ReLU()\n",
    "        self.fc2 = nn.Linear(hidden_size, output_size)\n",
    "\n",
    "    def forward(self, x):\n",
    "        x = self.fc1(x)\n",
    "        x = self.relu(x)\n",
    "        x = self.fc2(x)\n",
    "        return x"
   ]
  },
  {
   "cell_type": "code",
   "execution_count": null,
   "metadata": {},
   "outputs": [],
   "source": [
    "# Hyperparameters\n",
    "input_size = n # Number of input features\n",
    "hidden_size = 64 # Number of neurons in the hidden layer\n",
    "output_size = 1 # Size of the output\n",
    "learning_rate = 0.001\n",
    "batch_size = 65\n",
    "num_epochs = 10"
   ]
  },
  {
   "cell_type": "code",
   "execution_count": null,
   "metadata": {},
   "outputs": [],
   "source": [
    "model = Net(input_size, hidden_size, output_size) # Create NN\n",
    "criterion = nn.MSELoss() # MSE Loss\n",
    "optimizer = optim.Adam(model.parameters(), lr = learning_rate)"
   ]
  },
  {
   "cell_type": "code",
   "execution_count": null,
   "metadata": {},
   "outputs": [
    {
     "ename": "AssertionError",
     "evalue": "Size mismatch between tensors",
     "output_type": "error",
     "traceback": [
      "\u001b[0;31m---------------------------------------------------------------------------\u001b[0m",
      "\u001b[0;31mAssertionError\u001b[0m                            Traceback (most recent call last)",
      "\u001b[1;32m/Users/lucastucker/REU-2023/Experiment_LE_nn.ipynb Cell 8\u001b[0m in \u001b[0;36m3\n\u001b[1;32m      <a href='vscode-notebook-cell:/Users/lucastucker/REU-2023/Experiment_LE_nn.ipynb#X10sZmlsZQ%3D%3D?line=0'>1</a>\u001b[0m X_train_features \u001b[39m=\u001b[39m X_train[\u001b[39m1\u001b[39m:, :]\n\u001b[1;32m      <a href='vscode-notebook-cell:/Users/lucastucker/REU-2023/Experiment_LE_nn.ipynb#X10sZmlsZQ%3D%3D?line=1'>2</a>\u001b[0m X_train_labels \u001b[39m=\u001b[39m X_train[\u001b[39m0\u001b[39m, :]\n\u001b[0;32m----> <a href='vscode-notebook-cell:/Users/lucastucker/REU-2023/Experiment_LE_nn.ipynb#X10sZmlsZQ%3D%3D?line=2'>3</a>\u001b[0m train_dataset \u001b[39m=\u001b[39m TensorDataset(torch\u001b[39m.\u001b[39;49mTensor(X_train_features), torch\u001b[39m.\u001b[39;49mTensor(X_train_labels))\n\u001b[1;32m      <a href='vscode-notebook-cell:/Users/lucastucker/REU-2023/Experiment_LE_nn.ipynb#X10sZmlsZQ%3D%3D?line=3'>4</a>\u001b[0m train_loader \u001b[39m=\u001b[39m DataLoader(train_dataset, batch_size \u001b[39m=\u001b[39m batch_size, shuffle \u001b[39m=\u001b[39m \u001b[39mTrue\u001b[39;00m)\n",
      "File \u001b[0;32m/Library/Frameworks/Python.framework/Versions/3.10/lib/python3.10/site-packages/torch/utils/data/dataset.py:184\u001b[0m, in \u001b[0;36mTensorDataset.__init__\u001b[0;34m(self, *tensors)\u001b[0m\n\u001b[1;32m    183\u001b[0m \u001b[39mdef\u001b[39;00m \u001b[39m__init__\u001b[39m(\u001b[39mself\u001b[39m, \u001b[39m*\u001b[39mtensors: Tensor) \u001b[39m-\u001b[39m\u001b[39m>\u001b[39m \u001b[39mNone\u001b[39;00m:\n\u001b[0;32m--> 184\u001b[0m     \u001b[39massert\u001b[39;00m \u001b[39mall\u001b[39m(tensors[\u001b[39m0\u001b[39m]\u001b[39m.\u001b[39msize(\u001b[39m0\u001b[39m) \u001b[39m==\u001b[39m tensor\u001b[39m.\u001b[39msize(\u001b[39m0\u001b[39m) \u001b[39mfor\u001b[39;00m tensor \u001b[39min\u001b[39;00m tensors), \u001b[39m\"\u001b[39m\u001b[39mSize mismatch between tensors\u001b[39m\u001b[39m\"\u001b[39m\n\u001b[1;32m    185\u001b[0m     \u001b[39mself\u001b[39m\u001b[39m.\u001b[39mtensors \u001b[39m=\u001b[39m tensors\n",
      "\u001b[0;31mAssertionError\u001b[0m: Size mismatch between tensors"
     ]
    }
   ],
   "source": [
    "X_train_features = X_train[1:, :]\n",
    "X_train_labels = X_train[0, :]\n",
    "train_dataset = TensorDataset(torch.Tensor(X_train_features), torch.Tensor(X_train_labels))\n",
    "train_loader = DataLoader(train_dataset, batch_size = batch_size, shuffle = True)"
   ]
  },
  {
   "cell_type": "code",
   "execution_count": null,
   "metadata": {},
   "outputs": [],
   "source": [
    "for epoch in range(num_epochs):\n",
    "    for batch_features, batch_labels in train_loader:\n",
    "        # Forward pass\n",
    "        outputs = model(batch_features)\n",
    "        loss = criterion(outputs, batch_labels)\n",
    "\n",
    "        # Backprop and optimization\n",
    "        optimizer.zero_grad()\n",
    "        loss.backward()\n",
    "        optimizer.step()\n",
    "    print(f\"Epoch [{epoch+1}/{num_epochs}], Loss: {loss.item():.4f}\")"
   ]
  },
  {
   "cell_type": "code",
   "execution_count": null,
   "metadata": {},
   "outputs": [],
   "source": [
    "X_dev_features = X_dev[1:, :]\n",
    "dev_labels = X_dev[0, :]\n",
    "with torch.no_grad():\n",
    "    dev_predictions = model(torch.Tensor(X_dev_features))\n",
    "    dev_loss = criterion(dev_predictions, dev_labels)\n",
    "print(f\"Dev Set Loss: {dev_loss.item(): .4f}\")"
   ]
  }
 ],
 "metadata": {
  "kernelspec": {
   "display_name": "Python 3",
   "language": "python",
   "name": "python3"
  },
  "language_info": {
   "codemirror_mode": {
    "name": "ipython",
    "version": 3
   },
   "file_extension": ".py",
   "mimetype": "text/x-python",
   "name": "python",
   "nbconvert_exporter": "python",
   "pygments_lexer": "ipython3",
   "version": "3.10.7"
  },
  "orig_nbformat": 4
 },
 "nbformat": 4,
 "nbformat_minor": 2
}
