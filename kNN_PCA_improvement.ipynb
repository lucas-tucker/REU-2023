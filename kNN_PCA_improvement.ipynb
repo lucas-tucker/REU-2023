{
 "cells": [
  {
   "cell_type": "code",
   "execution_count": 108,
   "metadata": {},
   "outputs": [],
   "source": [
    "import pandas as pd\n",
    "import numpy as np"
   ]
  },
  {
   "cell_type": "code",
   "execution_count": 109,
   "metadata": {},
   "outputs": [],
   "source": [
    "data = pd.read_csv(\"/Users/lucastucker/REU-2023/archive/mnist_train.csv\")\n",
    "data = np.array(data)\n",
    "np.random.shuffle(data)"
   ]
  },
  {
   "cell_type": "code",
   "execution_count": 110,
   "metadata": {},
   "outputs": [
    {
     "data": {
      "text/plain": [
       "(60000, 785)"
      ]
     },
     "execution_count": 110,
     "metadata": {},
     "output_type": "execute_result"
    }
   ],
   "source": [
    "data.shape"
   ]
  },
  {
   "cell_type": "code",
   "execution_count": 111,
   "metadata": {},
   "outputs": [
    {
     "data": {
      "text/plain": [
       "(2000, 784)"
      ]
     },
     "execution_count": 111,
     "metadata": {},
     "output_type": "execute_result"
    }
   ],
   "source": [
    "m = 2000\n",
    "N = 784\n",
    "sample = data[:m]\n",
    "X = sample[:, 1:]\n",
    "X.shape"
   ]
  },
  {
   "cell_type": "code",
   "execution_count": 118,
   "metadata": {},
   "outputs": [],
   "source": [
    "k = 100 # k nearest neighbors\n",
    "k_nearest = np.ones((m, k)) * np.inf\n",
    "p = 100 # projection size"
   ]
  },
  {
   "cell_type": "code",
   "execution_count": 113,
   "metadata": {},
   "outputs": [
    {
     "name": "stdout",
     "output_type": "stream",
     "text": [
      "[   0.         2337.87702842 1851.47400738 ... 1913.98484842 2320.39867264\n",
      " 2159.18341046]\n"
     ]
    }
   ],
   "source": [
    "diff_matr = X - X[0]\n",
    "norms = np.linalg.norm(diff_matr, axis = 1)\n",
    "print(norms)"
   ]
  },
  {
   "cell_type": "code",
   "execution_count": 119,
   "metadata": {},
   "outputs": [],
   "source": [
    "for id, row in enumerate(X):\n",
    "    dif = X - row\n",
    "    norm_indices = np.argsort(np.linalg.norm(dif, axis = 1))\n",
    "    k_nearest[id] = norm_indices[1:k + 1]"
   ]
  },
  {
   "cell_type": "code",
   "execution_count": 120,
   "metadata": {},
   "outputs": [
    {
     "data": {
      "text/plain": [
       "(2000, 100)"
      ]
     },
     "execution_count": 120,
     "metadata": {},
     "output_type": "execute_result"
    }
   ],
   "source": [
    "A = np.random.normal(size = (p, N)) # random p projection\n",
    "X_tilde = A.dot(X.T)\n",
    "X_tilde = X_tilde.T\n",
    "X_tilde.shape"
   ]
  },
  {
   "cell_type": "code",
   "execution_count": 122,
   "metadata": {},
   "outputs": [],
   "source": [
    "k_nearest_rand = np.ones((m, k)) * np.inf\n",
    "for id, row in enumerate(X_tilde):\n",
    "    dif = X_tilde - row\n",
    "    norm_indices = np.argsort(np.linalg.norm(dif, axis = 1))\n",
    "    k_nearest_rand[id] = norm_indices[1:k+1]"
   ]
  },
  {
   "cell_type": "code",
   "execution_count": 123,
   "metadata": {},
   "outputs": [
    {
     "name": "stdout",
     "output_type": "stream",
     "text": [
      "[32 34 37 ... 32 21 26]\n"
     ]
    }
   ],
   "source": [
    "shared_elems_list = []\n",
    "for row, row_tilde in zip(k_nearest, k_nearest_rand):\n",
    "    set_1 = set(row)\n",
    "    set_2 = set(row_tilde)\n",
    "    shared_elem_count = len(set_1.intersection(set_2))\n",
    "    shared_elems_list.append(shared_elem_count)\n",
    "shared_elems = np.array(shared_elems_list)\n",
    "print(shared_elems) # ith element is ith row intersection count"
   ]
  },
  {
   "cell_type": "code",
   "execution_count": 124,
   "metadata": {},
   "outputs": [
    {
     "name": "stdout",
     "output_type": "stream",
     "text": [
      "34.593\n"
     ]
    }
   ],
   "source": [
    "avg_shared = (1/m) * np.sum(shared_elems)\n",
    "print(avg_shared)"
   ]
  },
  {
   "cell_type": "code",
   "execution_count": null,
   "metadata": {},
   "outputs": [],
   "source": []
  }
 ],
 "metadata": {
  "kernelspec": {
   "display_name": "Python 3",
   "language": "python",
   "name": "python3"
  },
  "language_info": {
   "codemirror_mode": {
    "name": "ipython",
    "version": 3
   },
   "file_extension": ".py",
   "mimetype": "text/x-python",
   "name": "python",
   "nbconvert_exporter": "python",
   "pygments_lexer": "ipython3",
   "version": "3.10.7"
  },
  "orig_nbformat": 4
 },
 "nbformat": 4,
 "nbformat_minor": 2
}
